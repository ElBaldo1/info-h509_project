{
 "cells": [
  {
   "metadata": {},
   "cell_type": "markdown",
   "source": [
    "Tutorial youtube\n",
    "https://www.youtube.com/watch?v=GMppyAPbLYk&ab_channel=TechWithTim"
   ],
   "id": "620b408c862e3e4a"
  },
  {
   "metadata": {},
   "cell_type": "markdown",
   "source": "It' very easy to run a server and start an api without too many configurations.",
   "id": "211004bbee59c9df"
  },
  {
   "metadata": {},
   "cell_type": "markdown",
   "source": "Esempio classe di Canale",
   "id": "d0c4532a2b3cb1a6"
  },
  {
   "metadata": {},
   "cell_type": "code",
   "outputs": [],
   "execution_count": null,
   "source": "",
   "id": "b2a42f3b6c3c63d4"
  }
 ],
 "metadata": {
  "kernelspec": {
   "display_name": "Python 3",
   "language": "python",
   "name": "python3"
  },
  "language_info": {
   "codemirror_mode": {
    "name": "ipython",
    "version": 2
   },
   "file_extension": ".py",
   "mimetype": "text/x-python",
   "name": "python",
   "nbconvert_exporter": "python",
   "pygments_lexer": "ipython2",
   "version": "2.7.6"
  }
 },
 "nbformat": 4,
 "nbformat_minor": 5
}
