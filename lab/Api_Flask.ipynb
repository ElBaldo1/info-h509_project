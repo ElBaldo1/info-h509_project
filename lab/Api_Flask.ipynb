{
 "cells": [
  {
   "cell_type": "code",
   "id": "initial_id",
   "metadata": {
    "collapsed": true,
    "ExecuteTime": {
     "end_time": "2024-05-02T17:30:29.254878Z",
     "start_time": "2024-05-02T17:30:29.252482Z"
    }
   },
   "source": [
    ""
   ],
   "outputs": [],
   "execution_count": 5
  },
  {
   "metadata": {},
   "cell_type": "markdown",
   "source": "",
   "id": "d1f48207adc05f82"
  },
  {
   "metadata": {},
   "cell_type": "markdown",
   "source": [
    "REST (Representational State Transfer) is an architectural style for designing networked applications. In a\n",
    "RESTful API, resources are represented as URIs (Uniform Resource Identifiers), and different HTTP methods\n",
    "are used to perform operations on these resources:\n",
    "\n",
    "• GET: Retrieves one or more resources. Used for reading data.\n",
    "\n",
    "• POST: Creates a new resource. Used for creating data.\n",
    "\n",
    "• PUT: Updates an existing resource. Used for modifying data.\n",
    "\n",
    "• DELETE: Deletes a resource. Used for removing data.\n",
    "\n",
    "\n",
    "HTTP status codes are used to indicate the outcome of each request. Some common status codes include:\n",
    "\n",
    "• 200 OK: The request was successful.\n",
    "\n",
    "• 201 Created: The resource was successfully created.\n",
    "\n",
    "• 400 Bad Request: The request was malformed or invalid.\n",
    "\n",
    "• 404 Not Found: The requested resource was not found.\n",
    "\n",
    "• 500 Internal Server Error: An unexpected error occurred on the server."
   ],
   "id": "9083698a05dc7d3"
  },
  {
   "metadata": {},
   "cell_type": "markdown",
   "source": "",
   "id": "bef7b4f7ec4d6553"
  },
  {
   "metadata": {},
   "cell_type": "markdown",
   "source": [
    "Now let’s learn how to query the REST Countries API using Python. This API provides information about countries, including their names, capitals, populations, and more. To retrieve information about a specific country (Belgium) by its name, we can make a GET request to the\n",
    "following endpoint"
   ],
   "id": "db204fa6e754b962"
  },
  {
   "metadata": {
    "ExecuteTime": {
     "end_time": "2024-05-02T17:30:29.758086Z",
     "start_time": "2024-05-02T17:30:29.331197Z"
    }
   },
   "cell_type": "code",
   "source": [
    "from requests import put, get\n",
    "response = get('https://restcountries.com/v3.1/name/belgium')\n",
    "# Check if the request was successful (status code 200)\n",
    "if response.status_code == 200:\n",
    "    # Parse the JSON response\n",
    "    belgium = response.json()\n",
    "    print(belgium)\n",
    "else:\n",
    "    print(\"Failed to retrieve country information. Status code:\", response.status_code)"
   ],
   "id": "c9864ca835667142",
   "outputs": [
    {
     "name": "stdout",
     "output_type": "stream",
     "text": [
      "[{'name': {'common': 'Belgium', 'official': 'Kingdom of Belgium', 'nativeName': {'deu': {'official': 'Königreich Belgien', 'common': 'Belgien'}, 'fra': {'official': 'Royaume de Belgique', 'common': 'Belgique'}, 'nld': {'official': 'Koninkrijk België', 'common': 'België'}}}, 'tld': ['.be'], 'cca2': 'BE', 'ccn3': '056', 'cca3': 'BEL', 'cioc': 'BEL', 'independent': True, 'status': 'officially-assigned', 'unMember': True, 'currencies': {'EUR': {'name': 'Euro', 'symbol': '€'}}, 'idd': {'root': '+3', 'suffixes': ['2']}, 'capital': ['Brussels'], 'altSpellings': ['BE', 'België', 'Belgie', 'Belgien', 'Belgique', 'Kingdom of Belgium', 'Koninkrijk België', 'Royaume de Belgique', 'Königreich Belgien'], 'region': 'Europe', 'subregion': 'Western Europe', 'languages': {'deu': 'German', 'fra': 'French', 'nld': 'Dutch'}, 'translations': {'ara': {'official': 'مملكة بلجيكا', 'common': 'بلجيكا'}, 'bre': {'official': 'Rouantelezh Belgia', 'common': 'Belgia'}, 'ces': {'official': 'Belgické království', 'common': 'Belgie'}, 'cym': {'official': 'Teyrnas Gwlad Belg', 'common': 'Gwlad Belg'}, 'deu': {'official': 'Königreich Belgien', 'common': 'Belgien'}, 'est': {'official': 'Belgia Kuningriik', 'common': 'Belgia'}, 'fin': {'official': 'Belgian kuningaskunta', 'common': 'Belgia'}, 'fra': {'official': 'Royaume de Belgique', 'common': 'Belgique'}, 'hrv': {'official': 'Kraljevina Belgija', 'common': 'Belgija'}, 'hun': {'official': 'Belga Királyság', 'common': 'Belgium'}, 'ita': {'official': 'Regno del Belgio', 'common': 'Belgio'}, 'jpn': {'official': 'ベルギー王国', 'common': 'ベルギー'}, 'kor': {'official': '벨기에 왕국', 'common': '벨기에'}, 'nld': {'official': 'Koninkrijk België', 'common': 'België'}, 'per': {'official': 'پادشاهی بلژیک', 'common': 'بلژیک'}, 'pol': {'official': 'Królestwo Belgii', 'common': 'Belgia'}, 'por': {'official': 'Reino da Bélgica', 'common': 'Bélgica'}, 'rus': {'official': 'Королевство Бельгия', 'common': 'Бельгия'}, 'slk': {'official': 'Belgické kráľovstvo', 'common': 'Belgicko'}, 'spa': {'official': 'Reino de Bélgica', 'common': 'Bélgica'}, 'srp': {'official': 'Краљевина Белгија', 'common': 'Белгија'}, 'swe': {'official': 'Konungariket Belgien', 'common': 'Belgien'}, 'tur': {'official': 'Belçika Krallığı', 'common': 'Belğika'}, 'urd': {'official': 'مملکتِ بلجئیم', 'common': 'بلجئیم'}, 'zho': {'official': '比利时王国', 'common': '比利时'}}, 'latlng': [50.83333333, 4.0], 'landlocked': False, 'borders': ['FRA', 'DEU', 'LUX', 'NLD'], 'area': 30528.0, 'demonyms': {'eng': {'f': 'Belgian', 'm': 'Belgian'}, 'fra': {'f': 'Belge', 'm': 'Belge'}}, 'flag': '🇧🇪', 'maps': {'googleMaps': 'https://goo.gl/maps/UQQzat85TCtPRXAL8', 'openStreetMaps': 'https://www.openstreetmap.org/relation/52411'}, 'population': 11555997, 'gini': {'2018': 27.2}, 'fifa': 'BEL', 'car': {'signs': ['B'], 'side': 'right'}, 'timezones': ['UTC+01:00'], 'continents': ['Europe'], 'flags': {'png': 'https://flagcdn.com/w320/be.png', 'svg': 'https://flagcdn.com/be.svg', 'alt': 'The flag of Belgium is composed of three equal vertical bands of black, yellow and red.'}, 'coatOfArms': {'png': 'https://mainfacts.com/media/images/coats_of_arms/be.png', 'svg': 'https://mainfacts.com/media/images/coats_of_arms/be.svg'}, 'startOfWeek': 'monday', 'capitalInfo': {'latlng': [50.83, 4.33]}, 'postalCode': {'format': '####', 'regex': '^(\\\\d{4})$'}}]\n"
     ]
    }
   ],
   "execution_count": 6
  },
  {
   "metadata": {},
   "cell_type": "markdown",
   "source": "This API is accessible via multiple endpoints. This means that we can perform different queries. For instance,we could query for all french speaking countries:",
   "id": "214e2602ae83a0ab"
  },
  {
   "metadata": {
    "ExecuteTime": {
     "end_time": "2024-05-02T17:30:30.151758Z",
     "start_time": "2024-05-02T17:30:29.761091Z"
    }
   },
   "cell_type": "code",
   "source": [
    "french_speaking_countries = get('https://restcountries.com/v3.1/lang/french')\n",
    "french_speaking_countries = french_speaking_countries.json()"
   ],
   "id": "2f3f907966898c19",
   "outputs": [],
   "execution_count": 7
  },
  {
   "metadata": {},
   "cell_type": "markdown",
   "source": "## Building a restful API with Flask",
   "id": "63346ab71eb3170"
  },
  {
   "metadata": {},
   "cell_type": "markdown",
   "source": "Example",
   "id": "f06208466bf7beb2"
  },
  {
   "metadata": {
    "ExecuteTime": {
     "end_time": "2024-05-02T17:30:30.631008Z",
     "start_time": "2024-05-02T17:30:30.154312Z"
    }
   },
   "cell_type": "code",
   "source": [
    "from flask import Flask\n",
    "from flask_restful import Resource, Api\n",
    "app = Flask(__name__)\n",
    "api = Api(app)\n",
    "class HelloWorld(Resource):\n",
    "    def get(self):\n",
    "        return {'hello': 'world'}\n",
    "api.add_resource(HelloWorld, '/')\n",
    "if __name__ == '__main__':\n",
    "    app.run(debug=True) "
   ],
   "id": "34c3180f84b172c1",
   "outputs": [
    {
     "name": "stdout",
     "output_type": "stream",
     "text": [
      " * Serving Flask app '__main__'\n",
      " * Debug mode: on\n"
     ]
    },
    {
     "name": "stderr",
     "output_type": "stream",
     "text": [
      "\u001B[31m\u001B[1mWARNING: This is a development server. Do not use it in a production deployment. Use a production WSGI server instead.\u001B[0m\n",
      " * Running on http://127.0.0.1:5000\n",
      "\u001B[33mPress CTRL+C to quit\u001B[0m\n",
      " * Restarting with stat\n",
      "Traceback (most recent call last):\n",
      "  File \"/home/antonio/Desktop/Geospatial/lab/labgeospatial/.venv/lib/python3.8/site-packages/ipykernel_launcher.py\", line 18, in <module>\n",
      "    app.launch_new_instance()\n",
      "  File \"/home/antonio/Desktop/Geospatial/lab/labgeospatial/.venv/lib/python3.8/site-packages/traitlets/config/application.py\", line 1074, in launch_instance\n",
      "    app.initialize(argv)\n",
      "  File \"/home/antonio/Desktop/Geospatial/lab/labgeospatial/.venv/lib/python3.8/site-packages/traitlets/config/application.py\", line 118, in inner\n",
      "    return method(app, *args, **kwargs)\n",
      "  File \"/home/antonio/Desktop/Geospatial/lab/labgeospatial/.venv/lib/python3.8/site-packages/ipykernel/kernelapp.py\", line 692, in initialize\n",
      "    self.init_sockets()\n",
      "  File \"/home/antonio/Desktop/Geospatial/lab/labgeospatial/.venv/lib/python3.8/site-packages/ipykernel/kernelapp.py\", line 331, in init_sockets\n",
      "    self.shell_port = self._bind_socket(self.shell_socket, self.shell_port)\n",
      "  File \"/home/antonio/Desktop/Geospatial/lab/labgeospatial/.venv/lib/python3.8/site-packages/ipykernel/kernelapp.py\", line 253, in _bind_socket\n",
      "    return self._try_bind_socket(s, port)\n",
      "  File \"/home/antonio/Desktop/Geospatial/lab/labgeospatial/.venv/lib/python3.8/site-packages/ipykernel/kernelapp.py\", line 229, in _try_bind_socket\n",
      "    s.bind(\"tcp://%s:%i\" % (self.ip, port))\n",
      "  File \"/home/antonio/Desktop/Geospatial/lab/labgeospatial/.venv/lib/python3.8/site-packages/zmq/sugar/socket.py\", line 311, in bind\n",
      "    super().bind(addr)\n",
      "  File \"_zmq.py\", line 898, in zmq.backend.cython._zmq.Socket.bind\n",
      "  File \"_zmq.py\", line 160, in zmq.backend.cython._zmq._check_rc\n",
      "zmq.error.ZMQError: Address already in use (addr='tcp://127.0.0.1:60229')\n"
     ]
    },
    {
     "ename": "SystemExit",
     "evalue": "1",
     "output_type": "error",
     "traceback": [
      "An exception has occurred, use %tb to see the full traceback.\n",
      "\u001B[0;31mSystemExit\u001B[0m\u001B[0;31m:\u001B[0m 1\n"
     ]
    }
   ],
   "execution_count": 8
  },
  {
   "metadata": {},
   "cell_type": "markdown",
   "source": "## Accessing data",
   "id": "609d44e055b4c631"
  },
  {
   "metadata": {},
   "cell_type": "markdown",
   "source": "",
   "id": "37f27249f6f80f29"
  },
  {
   "metadata": {},
   "cell_type": "markdown",
   "source": [
    "Lets adapt our HelloWorld app by initialize a contact book dictionary containing a single entry and create a\n",
    "simple ressource for accessing it:"
   ],
   "id": "2d9db1cadab94a81"
  },
  {
   "metadata": {
    "ExecuteTime": {
     "end_time": "2024-05-02T17:30:30.633356Z",
     "start_time": "2024-05-02T17:30:30.633242Z"
    }
   },
   "cell_type": "code",
   "source": [
    "contacts = {\"gilles\": {\"email\":\"gilles.dejaegere@ulb.be\", \"office\": \"UB4.131\"}}\n",
    "class Contact(Resource):\n",
    "    def get(self, contact_name):\n",
    "        return contacts[contact_name]\n",
    "api.add_resource(Contact, '/contact/<string:contact_name>')"
   ],
   "id": "3fa003336dd12118",
   "outputs": [],
   "execution_count": null
  },
  {
   "metadata": {},
   "cell_type": "markdown",
   "source": [
    "Since we launched the app in debug mode, the server should take into account the modification in your file once\n",
    "it is saved. If not, re-launch your script. You can then test via another python script (such as in the fist section\n",
    "of this lab):"
   ],
   "id": "98ddb33f42d56448"
  },
  {
   "metadata": {},
   "cell_type": "code",
   "source": "response = get('https://127.0.0.1:5000/contact/gilles')",
   "id": "52a747c273587b5a",
   "outputs": [],
   "execution_count": null
  },
  {
   "metadata": {},
   "cell_type": "markdown",
   "source": "## Adding data and Parsing input",
   "id": "6662397854250bd4"
  },
  {
   "metadata": {},
   "cell_type": "code",
   "source": [
    "from flask_restful import Api, Resource, reqparse, abort\n",
    "contacts = {\"gilles\": {\"email\":\"gilles.dejaegere@ulb.be\", \"office\": \"UB4.131\"}}\n",
    "contact_args = reqparse.RequestParser()\n",
    "contact_args.add_argument(\"email\", type=str, help=\"Email required\", required=True)\n",
    "contact_args.add_argument(\"office\", type=str, help=\"Office is required\", required=True)"
   ],
   "id": "d02ea00fdaa32a9c",
   "outputs": [],
   "execution_count": null
  },
  {
   "metadata": {},
   "cell_type": "markdown",
   "source": [
    "In this code we specify that the two fields are strings, that they are required and also provide some help message\n",
    "for in case the user makes an error.\n",
    "This request parser can then be used in the different methods of our Contact ressource. Let’s use it to create a\n",
    "\"put\" method:"
   ],
   "id": "96f6e99dd44f3ec7"
  },
  {
   "metadata": {},
   "cell_type": "code",
   "source": [
    "class Contact(Resource):\n",
    "    def get(self, contact_name):\n",
    "        return contacts[contact_name]\n",
    "    def put(self, contact_name):\n",
    "        if contact_name in contacts:\n",
    "            abort(409, message=f\"{contact_name} already in contacts\")\n",
    "        args = contact_args.parse_args()\n",
    "        contact = {\"email\":args['email'], \"office\":args['office']}\n",
    "        contacts[contact_name] = contact"
   ],
   "id": "2cf2fae77411ba80",
   "outputs": [],
   "execution_count": null
  },
  {
   "metadata": {},
   "cell_type": "markdown",
   "source": [
    "Two elements can be noticed. First some code has been added to abort the request if the user try to add\n",
    "a already existing contact. Secondly, the contact_args object is used to parse the data provided with the\n",
    "request.\n",
    "We can now test this code. For this, let’s try to add some new contacts via the following script:"
   ],
   "id": "9f404516bdd560b3"
  },
  {
   "metadata": {},
   "cell_type": "code",
   "source": [
    "import requests\n",
    "headers = {\n",
    "    'Content-type':'application/json',\n",
    "    'Accept':'application/json'\n",
    "}\n",
    "response = requests.put(\"http://127.0.0.1:5000/contact/jean\",\n",
    "                        json={\"email\": \"jean@ulb.be\", \"office\":\"UB4.132\"},\n",
    "                        headers=headers)\n",
    "print(response.json())"
   ],
   "id": "f12dcb8fa0fb53c1",
   "outputs": [],
   "execution_count": null
  },
  {
   "metadata": {},
   "cell_type": "markdown",
   "source": "## 3.3 Multiple Endpoints",
   "id": "feec7f317999407b"
  },
  {
   "metadata": {},
   "cell_type": "code",
   "source": [
    "class Contacts(Resource):\n",
    "    def get(self):\n",
    "        return contacts\n",
    "api.add_resource(Contacts, '/contacts')"
   ],
   "id": "ae461e445fa26189",
   "outputs": [],
   "execution_count": null
  },
  {
   "metadata": {},
   "cell_type": "markdown",
   "source": "This last functionality can be tested by accessing the new endpoint:",
   "id": "f59758c2b1abac95"
  },
  {
   "metadata": {},
   "cell_type": "code",
   "source": [
    "response = requests.get(\"http://127.0.0.1:5000/contacts\")\n",
    "print(response.json())"
   ],
   "id": "faa4fa892ccf6de8",
   "outputs": [],
   "execution_count": null
  },
  {
   "metadata": {},
   "cell_type": "markdown",
   "source": "## Exercice",
   "id": "95d05fc928ae2644"
  },
  {
   "metadata": {},
   "cell_type": "markdown",
   "source": "Complete the notebook API. For instance, you should add methods for:",
   "id": "b33c52cf352e58b0"
  },
  {
   "metadata": {},
   "cell_type": "markdown",
   "source": "• Deleting a contact;",
   "id": "f061fd13e419f919"
  },
  {
   "metadata": {},
   "cell_type": "code",
   "source": [
    "def delete(self, contact_name):\n",
    "    if contact_name not in contacts:\n",
    "        abort(404, message=f\"{contact_name} not in contacts\")\n",
    "    del contacts[contact_name]\n",
    "    return '', 204"
   ],
   "id": "d0e24928b22cf30",
   "outputs": [],
   "execution_count": null
  },
  {
   "metadata": {},
   "cell_type": "markdown",
   "source": "• Modifying a contact;",
   "id": "c0cab809de72c369"
  },
  {
   "metadata": {},
   "cell_type": "code",
   "source": [
    "def modify(self, contact_name):\n",
    "    if contact_name not in contacts:\n",
    "        abort(404, message=f\"{contact_name} not in contacts\")\n",
    "    args = contact_args.parse_args()\n",
    "    contacts[contact_name] = {\"email\":args['email'], \"office\":args['office']}\n",
    "    return contacts[contact_name], 201"
   ],
   "id": "e11d6ec4165d82fc",
   "outputs": [],
   "execution_count": null
  },
  {
   "metadata": {},
   "cell_type": "markdown",
   "source": "• Save the contact book in a csv file;",
   "id": "50862e2156541116"
  },
  {
   "metadata": {},
   "cell_type": "code",
   "source": [
    "def save(self):\n",
    "    with open('contacts.csv', 'w') as f:\n",
    "        for contact in contacts:\n",
    "            f.write(f\"{contact},{contacts[contact]['email']},{contacts[contact]['office']}\\n\")"
   ],
   "id": "6a5636be2e7a6cbe",
   "outputs": [],
   "execution_count": null
  },
  {
   "metadata": {},
   "cell_type": "markdown",
   "source": [
    "## Additional resources\n",
    "Hereunder are listed a few resources about Flask (from which this session was inspired).\n",
    "Written resources:\n",
    "\n",
    "\n",
    "• https://flask.palletsprojects.com/en/3.0.x/quickstart/ : Quickstart about Flask to build webpages.\n",
    "\n",
    "• https://flask-restful.readthedocs.io/en/latest/quickstart.html : How to build a restful API with flask.\n",
    "\n",
    "• https://www.youtube.com/watch?v=GMppyAPbLYk : Good video covering most of the basic needs with a concrete example"
   ],
   "id": "a68c5f43687f529d"
  }
 ],
 "metadata": {
  "kernelspec": {
   "display_name": "Python 3",
   "language": "python",
   "name": "python3"
  },
  "language_info": {
   "codemirror_mode": {
    "name": "ipython",
    "version": 2
   },
   "file_extension": ".py",
   "mimetype": "text/x-python",
   "name": "python",
   "nbconvert_exporter": "python",
   "pygments_lexer": "ipython2",
   "version": "2.7.6"
  }
 },
 "nbformat": 4,
 "nbformat_minor": 5
}
