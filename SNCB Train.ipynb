{
 "cells": [
  {
   "cell_type": "code",
   "execution_count": 58,
   "id": "6672e65d",
   "metadata": {},
   "outputs": [],
   "source": [
    "from functionstrain import *"
   ]
  },
  {
   "cell_type": "code",
   "execution_count": 59,
   "id": "13e1dde5",
   "metadata": {},
   "outputs": [],
   "source": [
    "filteredPMs, filteredSignals = getPMarkerSignalByTrack('BE.NMBS.008812005',8, rad=0.015)"
   ]
  },
  {
   "cell_type": "code",
   "execution_count": 60,
   "id": "5ce8f0c4",
   "metadata": {},
   "outputs": [
    {
     "name": "stdout",
     "output_type": "stream",
     "text": [
      "50.8614408\n",
      "50.8607937\n",
      "50.8600616\n",
      "50.8594363\n"
     ]
    }
   ],
   "source": [
    "for pm in filteredPMs:\n",
    "    print(pm.lat())"
   ]
  },
  {
   "cell_type": "code",
   "execution_count": 61,
   "id": "ab383f78",
   "metadata": {},
   "outputs": [
    {
     "name": "stdout",
     "output_type": "stream",
     "text": [
      "{'level': '2', 'railway': 'signal', 'railway:signal:direction': 'forward', 'railway:signal:main': 'BE:GSA', 'railway:signal:position': 'left', 'ref': 'G8-D.8', 'ref:track': '8'}\n",
      "{'level': '2', 'railway': 'signal', 'railway:signal:direction': 'backward', 'railway:signal:main': 'BE:GSA', 'railway:signal:position': 'left', 'ref': 'H8-E.8', 'ref:track': '8'}\n",
      "{'level': '2', 'railway': 'signal', 'railway:signal:direction': 'forward', 'railway:signal:position': 'left', 'ref': '10', 'ref:track': '8'}\n",
      "{'level': '2', 'railway': 'signal', 'railway:signal:direction': 'forward', 'railway:signal:position': 'left', 'ref': '8', 'ref:track': '8'}\n",
      "{'level': '2', 'railway': 'signal', 'railway:signal:direction': 'forward', 'railway:signal:position': 'left', 'ref': '6', 'ref:track': '8'}\n",
      "{'level': '2', 'railway': 'signal', 'railway:signal:direction': 'forward', 'railway:signal:position': 'left', 'ref': '4', 'ref:track': '8'}\n"
     ]
    }
   ],
   "source": [
    "for signal in filteredSignals:\n",
    "    print(signal.tags())"
   ]
  },
  {
   "cell_type": "code",
   "execution_count": 62,
   "id": "849c760d",
   "metadata": {},
   "outputs": [],
   "source": [
    "nextTrain = getNextTrainByTrack('BE.NMBS.008812005', 9)"
   ]
  },
  {
   "cell_type": "code",
   "execution_count": 63,
   "id": "df2ad2b5",
   "metadata": {},
   "outputs": [
    {
     "data": {
      "text/plain": [
       "{'id': '3',\n",
       " 'station': 'Tournai',\n",
       " 'stationinfo': {'@id': 'http://irail.be/stations/NMBS/008885001',\n",
       "  'id': 'BE.NMBS.008885001',\n",
       "  'name': 'Tournai',\n",
       "  'locationX': '3.396942',\n",
       "  'locationY': '50.613134',\n",
       "  'standardname': 'Tournai'},\n",
       " 'time': '1715349660',\n",
       " 'delay': '180',\n",
       " 'canceled': '0',\n",
       " 'left': '0',\n",
       " 'isExtra': '0',\n",
       " 'vehicle': 'BE.NMBS.IC1937',\n",
       " 'vehicleinfo': {'name': 'BE.NMBS.IC1937',\n",
       "  'shortname': 'IC 1937',\n",
       "  'number': '1937',\n",
       "  'type': 'IC',\n",
       "  'locationX': '0',\n",
       "  'locationY': '0',\n",
       "  '@id': 'http://irail.be/vehicle/IC1937'},\n",
       " 'platform': '9',\n",
       " 'platforminfo': {'name': '9', 'normal': '1'},\n",
       " 'occupancy': {'@id': 'http://api.irail.be/terms/unknown', 'name': 'unknown'},\n",
       " 'departureConnection': 'http://irail.be/connections/8812005/20240510/IC1937'}"
      ]
     },
     "execution_count": 63,
     "metadata": {},
     "output_type": "execute_result"
    }
   ],
   "source": [
    "nextTrain"
   ]
  },
  {
   "cell_type": "code",
   "execution_count": 64,
   "id": "1287d141",
   "metadata": {},
   "outputs": [],
   "source": [
    "pms = getPlatformMarker('BE.NMBS.008812005', rad=0.015)"
   ]
  },
  {
   "cell_type": "code",
   "execution_count": 65,
   "id": "8d787b8c",
   "metadata": {},
   "outputs": [
    {
     "data": {
      "text/plain": [
       "True"
      ]
     },
     "execution_count": 65,
     "metadata": {},
     "output_type": "execute_result"
    }
   ],
   "source": [
    "'ref:track' in pms[1].tags().keys()"
   ]
  },
  {
   "cell_type": "code",
   "execution_count": 66,
   "id": "2c2208cf",
   "metadata": {},
   "outputs": [],
   "source": [
    "signals = getSignal('BE.NMBS.008812005', rad=0.015)"
   ]
  },
  {
   "cell_type": "code",
   "execution_count": null,
   "id": "135a7993",
   "metadata": {},
   "outputs": [],
   "source": []
  },
  {
   "cell_type": "code",
   "execution_count": 67,
   "id": "28b79055",
   "metadata": {},
   "outputs": [
    {
     "name": "stdout",
     "output_type": "stream",
     "text": [
      "{'railway': 'signal'}\n",
      "{'railway': 'signal'}\n",
      "{'railway': 'signal'}\n",
      "{'railway': 'signal'}\n",
      "{'railway': 'signal'}\n",
      "{'level': '2', 'railway': 'signal', 'railway:signal:direction': 'forward', 'railway:signal:position': 'left', 'ref': '8', 'ref:track': '2'}\n",
      "{'level': '2', 'railway': 'signal', 'railway:signal:direction': 'forward', 'railway:signal:main': 'BE:GSA', 'railway:signal:position': 'left', 'ref': 'G4-D8', 'ref:track': '4'}\n",
      "{'level': '2', 'railway': 'signal', 'railway:signal:direction': 'forward', 'railway:signal:position': 'left', 'ref': '12', 'ref:track': '7'}\n",
      "{'level': '2', 'railway': 'signal', 'railway:signal:direction': 'backward', 'railway:signal:main': 'BE:GSA', 'railway:signal:position': 'left', 'ref': 'H12-E.8', 'ref:track': '12'}\n",
      "{'railway': 'signal'}\n",
      "{'railway': 'signal'}\n",
      "{'level': '2', 'railway': 'signal', 'railway:signal:direction': 'forward', 'railway:signal:main': 'BE:GSA', 'railway:signal:position': 'left', 'ref': 'H3-E8', 'ref:track': '3'}\n",
      "{'railway': 'signal'}\n",
      "{'level': '2', 'railway': 'signal', 'railway:signal:direction': 'backward', 'railway:signal:main': 'BE:GSA', 'railway:signal:position': 'right', 'ref': 'H9-E.8', 'ref:track': '9'}\n",
      "{'railway': 'signal'}\n",
      "{'railway': 'signal'}\n",
      "{'railway': 'signal'}\n",
      "{'railway': 'signal'}\n",
      "{'level': '2', 'railway': 'signal', 'railway:signal:direction': 'forward', 'railway:signal:main': 'BE:GSA', 'railway:signal:position': 'right', 'ref': 'H6-E.8', 'ref:track': '6'}\n",
      "{'level': '2', 'railway': 'signal', 'railway:signal:direction': 'forward', 'railway:signal:main': 'BE:GSA', 'railway:signal:position': 'left', 'ref': 'G8-D.8', 'ref:track': '8'}\n",
      "{'railway': 'signal'}\n",
      "{'railway': 'signal'}\n",
      "{'railway': 'signal'}\n",
      "{'railway': 'signal'}\n",
      "{'railway': 'signal'}\n",
      "{'level': '2', 'railway': 'signal', 'railway:signal:direction': 'forward', 'railway:signal:main': 'BE:GSA', 'railway:signal:position': 'left', 'ref': 'G12-D.8', 'ref:track': '12'}\n",
      "{'railway': 'signal'}\n",
      "{'level': '2', 'railway': 'signal', 'railway:signal:direction': 'backward', 'railway:signal:main': 'BE:GSA', 'railway:signal:position': 'left', 'ref': 'H10-E.8', 'ref:track': '10'}\n",
      "{'railway': 'signal'}\n",
      "{'railway': 'signal'}\n",
      "{'level': '2', 'railway': 'signal', 'railway:signal:direction': 'forward', 'railway:signal:main': 'BE:GSA', 'railway:signal:position': 'left', 'ref': 'H1-E.8', 'ref:track': '1'}\n",
      "{'railway': 'signal'}\n",
      "{'level': '2', 'railway': 'signal', 'railway:signal:direction': 'forward', 'railway:signal:main': 'BE:GSA', 'railway:signal:position': 'left', 'ref': 'H7-E.8', 'ref:track': '7'}\n",
      "{'railway': 'signal'}\n",
      "{'level': '2', 'railway': 'signal', 'railway:signal:direction': 'backward', 'railway:signal:main': 'BE:GSA', 'railway:signal:position': 'left', 'ref': 'G7-D.8', 'ref:track': '7'}\n",
      "{'railway': 'signal'}\n",
      "{'railway': 'signal'}\n",
      "{'railway': 'signal'}\n",
      "{'level': '2', 'railway': 'signal', 'railway:signal:direction': 'backward', 'railway:signal:main': 'BE:GSA', 'railway:signal:position': 'left', 'ref': 'H4-E8', 'ref:track': '4'}\n",
      "{'railway': 'signal'}\n",
      "{'railway': 'signal'}\n",
      "{'railway': 'signal'}\n",
      "{'level': '2', 'railway': 'signal', 'railway:signal:direction': 'forward', 'railway:signal:main': 'BE:GSA', 'railway:signal:position': 'left', 'ref': 'H11-E.8', 'ref:track': '11'}\n",
      "{'railway': 'signal'}\n",
      "{'railway': 'signal'}\n",
      "{'level': '2', 'railway': 'signal', 'railway:signal:direction': 'backward', 'railway:signal:main': 'BE:GSA', 'railway:signal:position': 'left', 'ref': 'H2-E.8', 'ref:track': '2'}\n",
      "{'railway': 'signal'}\n",
      "{'level': '2', 'railway': 'signal', 'railway:signal:direction': 'backward', 'railway:signal:main': 'BE:GSA', 'railway:signal:position': 'left', 'ref': 'H8-E.8', 'ref:track': '8'}\n",
      "{'railway': 'signal'}\n",
      "{'railway': 'signal'}\n",
      "{'railway': 'signal'}\n",
      "{'railway': 'signal'}\n",
      "{'level': '2', 'railway': 'signal', 'railway:signal:direction': 'forward', 'railway:signal:main': 'BE:GSA', 'railway:signal:position': 'left', 'ref': 'H5-E8', 'ref:track': '5'}\n",
      "{'railway': 'signal'}\n",
      "{'level': '2', 'railway': 'signal', 'railway:signal:direction': 'backward', 'railway:signal:main': 'BE:GSA', 'railway:signal:position': 'left', 'ref': 'G11-D.8', 'ref:track': '11'}\n",
      "{'railway': 'signal'}\n",
      "{'level': '2', 'railway': 'signal', 'railway:signal:direction': 'backward', 'railway:signal:main': 'BE:GSA', 'railway:signal:position': 'left', 'ref': 'G1-D8', 'ref:track': '1'}\n",
      "{'level': '2', 'railway': 'signal', 'railway:signal:direction': 'backward', 'railway:signal:main': 'BE:GSA', 'railway:signal:position': 'left', 'ref': 'G3-D8', 'ref:track': '3'}\n",
      "{'level': '2', 'railway': 'signal', 'railway:signal:direction': 'forward', 'railway:signal:main': 'BE:GSA', 'railway:signal:position': 'left', 'ref': 'G2-D8', 'ref:track': '2'}\n",
      "{'railway': 'signal'}\n",
      "{'railway': 'signal'}\n",
      "{'railway': 'signal'}\n",
      "{'railway': 'signal'}\n",
      "{'railway': 'signal'}\n",
      "{'railway': 'signal'}\n",
      "{'railway': 'signal'}\n",
      "{'railway': 'signal'}\n",
      "{'railway': 'signal'}\n",
      "{'railway': 'signal'}\n",
      "{'railway': 'signal'}\n",
      "{'level': '2', 'railway': 'signal', 'railway:signal:direction': 'forward', 'railway:signal:position': 'left', 'ref': '8'}\n",
      "{'level': '2', 'railway': 'signal', 'railway:signal:direction': 'forward', 'railway:signal:position': 'left', 'ref': '6'}\n",
      "{'level': '2', 'railway': 'signal', 'railway:signal:direction': 'forward', 'railway:signal:position': 'left', 'ref': '4', 'ref:track': '4'}\n",
      "{'level': '2', 'railway': 'signal', 'railway:signal:direction': 'forward', 'railway:signal:position': 'left', 'ref': '2', 'ref:track': '4'}\n",
      "{'level': '1', 'railway': 'signal', 'railway:signal:direction': 'forward', 'railway:signal:position': 'left', 'ref': '8', 'ref:track': '3'}\n",
      "{'level': '1', 'railway': 'signal', 'railway:signal:direction': 'forward', 'railway:signal:position': 'left', 'ref': '6', 'ref:track': '3'}\n",
      "{'level': '2', 'railway': 'signal', 'railway:signal:direction': 'forward', 'railway:signal:position': 'left', 'ref': '4', 'ref:track': '3'}\n",
      "{'level': '2', 'railway': 'signal', 'railway:signal:direction': 'forward', 'railway:signal:position': 'left', 'ref': '2', 'ref:track': '3'}\n",
      "{'level': '2', 'railway': 'signal', 'railway:signal:direction': 'forward', 'railway:signal:main': 'BE:GSA', 'railway:signal:position': 'left', 'ref': 'G10-D.8', 'ref:track': '10'}\n",
      "{'level': '2', 'railway': 'signal', 'railway:signal:direction': 'backward', 'railway:signal:main': 'BE:GSA', 'railway:signal:position': 'left', 'ref': 'G9-D.8', 'ref:track': '9'}\n",
      "{'level': '2', 'railway': 'signal', 'railway:signal:direction': 'backward', 'railway:signal:main': 'BE:GSA', 'railway:signal:position': 'right', 'ref': 'G6-D.8', 'ref:track': '6'}\n",
      "{'level': '2', 'railway': 'signal', 'railway:signal:direction': 'backward', 'railway:signal:main': 'BE:GSA', 'railway:signal:position': 'left', 'ref': 'G5-D.8', 'ref:track': '5'}\n",
      "{'level': '2', 'railway': 'signal', 'railway:signal:direction': 'forward', 'railway:signal:position': 'left', 'ref': '8', 'ref:track': '12'}\n",
      "{'level': '2', 'railway': 'signal', 'railway:signal:direction': 'forward', 'railway:signal:position': 'left', 'ref': '6', 'ref:track': '12'}\n",
      "{'level': '2', 'railway': 'signal', 'railway:signal:direction': 'forward', 'railway:signal:position': 'left', 'ref': '4', 'ref:track': '12'}\n",
      "{'level': '2', 'railway': 'signal', 'railway:signal:direction': 'forward', 'railway:signal:position': 'left', 'ref': '2', 'ref:track': '12'}\n",
      "{'level': '2', 'railway': 'signal', 'railway:signal:direction': 'backward', 'railway:signal:position': 'left', 'ref': '4', 'ref:track': '11'}\n",
      "{'level': '2', 'railway': 'signal', 'railway:signal:direction': 'forward', 'railway:signal:position': 'left', 'ref': '2', 'ref:track': '11'}\n",
      "{'level': '2', 'railway': 'signal', 'railway:signal:direction': 'forward', 'railway:signal:position': 'left', 'ref': '4', 'ref:track': '11'}\n",
      "{'level': '2', 'railway': 'signal', 'railway:signal:direction': 'forward', 'railway:signal:position': 'left', 'ref': '6', 'ref:track': '11'}\n",
      "{'level': '2', 'railway': 'signal', 'railway:signal:direction': 'forward', 'railway:signal:position': 'left', 'ref': '8', 'ref:track': '11'}\n",
      "{'level': '2', 'railway': 'signal', 'railway:signal:direction': 'forward', 'railway:signal:position': 'left', 'ref': '10', 'ref:track': '11'}\n",
      "{'level': '2', 'railway': 'signal', 'railway:signal:direction': 'backward', 'railway:signal:position': 'left', 'ref': '8', 'ref:track': '10'}\n",
      "{'level': '2', 'railway': 'signal', 'railway:signal:direction': 'backward', 'railway:signal:position': 'left', 'ref': '6', 'ref:track': '10'}\n",
      "{'level': '2', 'railway': 'signal', 'railway:signal:direction': 'backward', 'railway:signal:position': 'left', 'ref': '4', 'ref:track': '10'}\n",
      "{'level': '2', 'railway': 'signal', 'railway:signal:direction': 'backward', 'railway:signal:position': 'left', 'ref': '2', 'ref:track': '10'}\n",
      "{'level': '2', 'railway': 'signal', 'railway:signal:direction': 'forward', 'railway:signal:position': 'left', 'ref': '2', 'ref:track': '10'}\n",
      "{'level': '2', 'railway': 'signal', 'railway:signal:direction': 'forward', 'railway:signal:position': 'right', 'ref': '2', 'ref:track': '9'}\n",
      "{'level': '2', 'railway': 'signal', 'railway:signal:direction': 'forward', 'railway:signal:position': 'left', 'ref': '4', 'ref:track': '10'}\n",
      "{'level': '2', 'railway': 'signal', 'railway:signal:direction': 'forward', 'railway:signal:position': 'left', 'ref': '6', 'ref:track': '10'}\n",
      "{'level': '2', 'railway': 'signal', 'railway:signal:direction': 'forward', 'railway:signal:position': 'right', 'ref': '6', 'ref:track': '9'}\n",
      "{'level': '2', 'railway': 'signal', 'railway:signal:direction': 'forward', 'railway:signal:position': 'right', 'ref': '4', 'ref:track': '9'}\n",
      "{'level': '2', 'railway': 'signal', 'railway:signal:direction': 'forward', 'railway:signal:position': 'left', 'ref': '10', 'ref:track': '8'}\n",
      "{'level': '2', 'railway': 'signal', 'railway:signal:direction': 'forward', 'railway:signal:position': 'left', 'ref': '8', 'ref:track': '8'}\n",
      "{'level': '2', 'railway': 'signal', 'railway:signal:direction': 'forward', 'railway:signal:position': 'left', 'ref': '6', 'ref:track': '8'}\n",
      "{'level': '2', 'railway': 'signal', 'railway:signal:direction': 'forward', 'railway:signal:position': 'left', 'ref': '4', 'ref:track': '8'}\n",
      "{'level': '2', 'railway': 'signal', 'railway:signal:direction': 'forward', 'railway:signal:position': 'left', 'ref': '4', 'ref:track': '7'}\n",
      "{'level': '2', 'railway': 'signal', 'railway:signal:direction': 'forward', 'railway:signal:position': 'left', 'ref': '2', 'ref:track': '7'}\n",
      "{'level': '2', 'railway': 'signal', 'railway:signal:direction': 'forward', 'railway:signal:position': 'left', 'ref': '6', 'ref:track': '7'}\n",
      "{'level': '2', 'railway': 'signal', 'railway:signal:direction': 'forward', 'railway:signal:position': 'left', 'ref': '8', 'ref:track': '7'}\n",
      "{'level': '2', 'railway': 'signal', 'railway:signal:direction': 'forward', 'railway:signal:position': 'left', 'ref': '10', 'ref:track': '7'}\n",
      "{'level': '2', 'railway': 'signal', 'railway:signal:direction': 'forward', 'railway:signal:position': 'right', 'ref': '12', 'ref:track': '6'}\n",
      "{'level': '2', 'railway': 'signal', 'railway:signal:direction': 'forward', 'railway:signal:position': 'right', 'ref': '10', 'ref:track': '6'}\n",
      "{'level': '2', 'railway': 'signal', 'railway:signal:direction': 'forward', 'railway:signal:position': 'right', 'ref': '8', 'ref:track': '6'}\n",
      "{'level': '2', 'railway': 'signal', 'railway:signal:direction': 'forward', 'railway:signal:position': 'right', 'ref': '6', 'ref:track': '6'}\n",
      "{'level': '2', 'railway': 'signal', 'railway:signal:direction': 'forward', 'railway:signal:position': 'right', 'ref': '4', 'ref:track': '6'}\n",
      "{'level': '2', 'railway': 'signal', 'railway:signal:direction': 'forward', 'railway:signal:position': 'right', 'ref': '2', 'ref:track': '6'}\n",
      "{'level': '2', 'railway': 'signal', 'railway:signal:direction': 'forward', 'railway:signal:position': 'left', 'ref': '10', 'ref:track': '5'}\n",
      "{'level': '2', 'railway': 'signal', 'railway:signal:direction': 'forward', 'railway:signal:position': 'left', 'ref': '4', 'ref:track': '5'}\n",
      "{'level': '2', 'railway': 'signal', 'railway:signal:direction': 'forward', 'railway:signal:position': 'left', 'ref': '2', 'ref:track': '5'}\n",
      "{'level': '2', 'railway': 'signal', 'railway:signal:direction': 'forward', 'railway:signal:position': 'left', 'ref': '6', 'ref:track': '5'}\n",
      "{'level': '2', 'railway': 'signal', 'railway:signal:direction': 'forward', 'railway:signal:position': 'left', 'ref': '8', 'ref:track': '5'}\n",
      "{'level': '2', 'railway': 'signal', 'railway:signal:direction': 'backward', 'railway:signal:position': 'left', 'ref': '8', 'ref:track': '2'}\n",
      "{'level': '2', 'railway': 'signal', 'railway:signal:direction': 'backward', 'railway:signal:position': 'left', 'ref': '6', 'ref:track': '2'}\n",
      "{'level': '2', 'railway': 'signal', 'railway:signal:direction': 'backward', 'railway:signal:position': 'left', 'ref': '4', 'ref:track': '2'}\n",
      "{'level': '2', 'railway': 'signal', 'railway:signal:direction': 'backward', 'railway:signal:position': 'left', 'ref': '2', 'ref:track': '2'}\n",
      "{'level': '2', 'railway': 'signal', 'railway:signal:direction': 'forward', 'railway:signal:position': 'left', 'ref': '6', 'ref:track': '2'}\n",
      "{'level': '2', 'railway': 'signal', 'railway:signal:direction': 'forward', 'railway:signal:position': 'left', 'ref': '4', 'ref:track': '2'}\n",
      "{'level': '2', 'railway': 'signal', 'railway:signal:direction': 'forward', 'railway:signal:position': 'left', 'ref': '2', 'ref:track': '2'}\n",
      "{'level': '2', 'railway': 'signal', 'railway:signal:direction': 'forward', 'railway:signal:position': 'left', 'ref': '8', 'ref:track': '1'}\n",
      "{'level': '2', 'railway': 'signal', 'railway:signal:direction': 'forward', 'railway:signal:position': 'left', 'ref': '6', 'ref:track': '1'}\n",
      "{'level': '2', 'railway': 'signal', 'railway:signal:direction': 'forward', 'railway:signal:position': 'left', 'ref': '4', 'ref:track': '1'}\n",
      "{'level': '2', 'railway': 'signal', 'railway:signal:direction': 'forward', 'railway:signal:position': 'left', 'ref': '2', 'ref:track': '1'}\n"
     ]
    }
   ],
   "source": [
    "for signal in signals:\n",
    "    print(signal.tags())"
   ]
  },
  {
   "cell_type": "code",
   "execution_count": null,
   "id": "cfe749c2",
   "metadata": {},
   "outputs": [],
   "source": []
  },
  {
   "cell_type": "code",
   "execution_count": null,
   "id": "edb36f3b",
   "metadata": {},
   "outputs": [],
   "source": []
  },
  {
   "cell_type": "code",
   "execution_count": null,
   "id": "c1cc15f3",
   "metadata": {},
   "outputs": [],
   "source": []
  },
  {
   "cell_type": "code",
   "execution_count": null,
   "id": "e3b7ae29",
   "metadata": {},
   "outputs": [],
   "source": []
  }
 ],
 "metadata": {
  "kernelspec": {
   "display_name": "Python 3 (ipykernel)",
   "language": "python",
   "name": "python3"
  },
  "language_info": {
   "codemirror_mode": {
    "name": "ipython",
    "version": 3
   },
   "file_extension": ".py",
   "mimetype": "text/x-python",
   "name": "python",
   "nbconvert_exporter": "python",
   "pygments_lexer": "ipython3",
   "version": "3.11.4"
  }
 },
 "nbformat": 4,
 "nbformat_minor": 5
}
