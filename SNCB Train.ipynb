{
 "cells": [
  {
   "cell_type": "code",
   "execution_count": 242,
   "id": "6672e65d",
   "metadata": {},
   "outputs": [],
   "source": [
    "from functionstrain import *\n",
    "import matplotlib.pyplot as plt"
   ]
  },
  {
   "cell_type": "code",
   "execution_count": 243,
   "id": "13e1dde5",
   "metadata": {},
   "outputs": [],
   "source": [
    "filteredPMs, filteredSignals = getPMarkerSignalByTrack('BE.NMBS.008812005',8, rad=0.015)"
   ]
  },
  {
   "cell_type": "code",
   "execution_count": 244,
   "id": "5ce8f0c4",
   "metadata": {},
   "outputs": [
    {
     "name": "stdout",
     "output_type": "stream",
     "text": [
      "{'level': '2', 'railway': 'platform_marker', 'ref': '8A', 'ref:track': '8'}\n",
      "{'level': '2', 'railway': 'platform_marker', 'ref': '8A', 'ref:track': '8'}\n",
      "{'level': '2', 'railway': 'platform_marker', 'ref': '8B', 'ref:track': '8'}\n",
      "{'level': '2', 'railway': 'platform_marker', 'ref': '8B', 'ref:track': '8'}\n"
     ]
    }
   ],
   "source": [
    "for pm in filteredPMs:\n",
    "    print(pm.tags())    "
   ]
  },
  {
   "cell_type": "code",
   "execution_count": 245,
   "id": "3d738c10",
   "metadata": {},
   "outputs": [
    {
     "name": "stdout",
     "output_type": "stream",
     "text": [
      "74.82765755541088\n"
     ]
    }
   ],
   "source": [
    "print(getDistance(filteredPMs[0],filteredPMs[1]))"
   ]
  },
  {
   "cell_type": "code",
   "execution_count": 246,
   "id": "49b3669c",
   "metadata": {},
   "outputs": [
    {
     "name": "stdout",
     "output_type": "stream",
     "text": [
      "84.65802040228574\n"
     ]
    }
   ],
   "source": [
    "print(getDistance(filteredPMs[1],filteredPMs[2]))"
   ]
  },
  {
   "cell_type": "code",
   "execution_count": 247,
   "id": "b7fdf1e9",
   "metadata": {},
   "outputs": [
    {
     "name": "stdout",
     "output_type": "stream",
     "text": [
      "72.30614411056631\n"
     ]
    }
   ],
   "source": [
    "print(getDistance(filteredPMs[2],filteredPMs[3]))\n"
   ]
  },
  {
   "cell_type": "code",
   "execution_count": 248,
   "id": "ab383f78",
   "metadata": {},
   "outputs": [
    {
     "name": "stdout",
     "output_type": "stream",
     "text": [
      "{'level': '2', 'railway': 'signal', 'railway:signal:direction': 'forward', 'railway:signal:main': 'BE:GSA', 'railway:signal:position': 'left', 'ref': 'G8-D.8', 'ref:track': '8'}\n",
      "{'level': '2', 'railway': 'signal', 'railway:signal:direction': 'backward', 'railway:signal:main': 'BE:GSA', 'railway:signal:position': 'left', 'ref': 'H8-E.8', 'ref:track': '8'}\n",
      "{'level': '2', 'railway': 'signal', 'railway:signal:direction': 'forward', 'railway:signal:position': 'left', 'ref': '10', 'ref:track': '8'}\n",
      "{'level': '2', 'railway': 'signal', 'railway:signal:direction': 'forward', 'railway:signal:position': 'left', 'ref': '8', 'ref:track': '8'}\n",
      "{'level': '2', 'railway': 'signal', 'railway:signal:direction': 'forward', 'railway:signal:position': 'left', 'ref': '6', 'ref:track': '8'}\n",
      "{'level': '2', 'railway': 'signal', 'railway:signal:direction': 'forward', 'railway:signal:position': 'left', 'ref': '4', 'ref:track': '8'}\n"
     ]
    }
   ],
   "source": [
    "for signal in filteredSignals:\n",
    "    print(signal.tags())"
   ]
  },
  {
   "cell_type": "code",
   "execution_count": 256,
   "id": "ec64c78e",
   "metadata": {},
   "outputs": [
    {
     "name": "stdout",
     "output_type": "stream",
     "text": [
      "232.6226435698378\n"
     ]
    }
   ],
   "source": [
    "print(getDistance(filteredPMs[1],filteredSignals[0]))"
   ]
  },
  {
   "cell_type": "code",
   "execution_count": 289,
   "metadata": {},
   "outputs": [
    {
     "name": "stdout",
     "output_type": "stream",
     "text": [
      "dict_keys(['level', 'railway', 'railway:signal:direction', 'railway:signal:main', 'railway:signal:position', 'ref', 'ref:track'])\n",
      "6\n",
      "True\n",
      "dict_keys(['level', 'railway', 'railway:signal:direction', 'railway:signal:main', 'railway:signal:position', 'ref', 'ref:track'])\n",
      "True\n",
      "dict_keys(['level', 'railway', 'railway:signal:direction', 'railway:signal:main', 'railway:signal:position', 'ref', 'ref:track'])\n",
      "False\n",
      "dict_keys(['level', 'railway', 'railway:signal:direction', 'railway:signal:position', 'ref', 'ref:track'])\n",
      "False\n",
      "dict_keys(['level', 'railway', 'railway:signal:direction', 'railway:signal:position', 'ref', 'ref:track'])\n",
      "False\n",
      "dict_keys(['level', 'railway', 'railway:signal:direction', 'railway:signal:position', 'ref', 'ref:track'])\n",
      "False\n",
      "dict_keys(['level', 'railway', 'railway:signal:direction', 'railway:signal:position', 'ref', 'ref:track'])\n"
     ]
    }
   ],
   "source": [
    "print(filteredSignals[1].tags().keys())\n",
    "print(len(filteredSignals))\n",
    "for i in range(len(filteredSignals)):\n",
    "    #print(filteredSignals[i].tags()['railway:signal:main']==None)\n",
    "    print('railway:signal:main' in filteredSignals[i].tags())\n",
    "\n"
   ]
  },
  {
   "cell_type": "code",
   "execution_count": 255,
   "id": "bd7f0db9",
   "metadata": {},
   "outputs": [
    {
     "data": {
      "image/png": "[encoded data removed]",
      "text/plain": [
       "<Figure size 640x480 with 1 Axes>"
      ]
     },
     "metadata": {},
     "output_type": "display_data"
    }
   ],
   "source": [
    "\n",
    "\n",
    "y = [1 for i in x]\n",
    "n = [58, 651, 393, 203, 123]\n",
    "\n",
    "fig, ax = plt.subplots()\n",
    "ax.scatter(x, y)\n",
    "\n",
    "for i, txt in enumerate(n):\n",
    "    ax.annotate(txt, (x[i], y[i]))"
   ]
  },
  {
   "cell_type": "code",
   "execution_count": 250,
   "id": "1344d350",
   "metadata": {},
   "outputs": [
    {
     "name": "stdout",
     "output_type": "stream",
     "text": [
      "dict_keys(['level', 'railway', 'ref', 'ref:track'])\n"
     ]
    }
   ],
   "source": []
  },
  {
   "cell_type": "code",
   "execution_count": 251,
   "id": "849c760d",
   "metadata": {},
   "outputs": [],
   "source": [
    "nextTrain = getNextTrainByTrack('BE.NMBS.008812005', 9)"
   ]
  }
 ],
 "metadata": {
  "kernelspec": {
   "display_name": "Python 3 (ipykernel)",
   "language": "python",
   "name": "python3"
  },
  "language_info": {
   "codemirror_mode": {
    "name": "ipython",
    "version": 3
   },
   "file_extension": ".py",
   "mimetype": "text/x-python",
   "name": "python",
   "nbconvert_exporter": "python",
   "pygments_lexer": "ipython3",
   "version": "3.11.4"
  }
 },
 "nbformat": 4,
 "nbformat_minor": 5
}
