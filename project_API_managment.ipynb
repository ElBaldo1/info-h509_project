{
 "cells": [
  {
   "metadata": {},
   "cell_type": "markdown",
   "source": "Importing Libraries",
   "id": "c47323a4a58d5266"
  },
  {
   "metadata": {
    "jupyter": {
     "is_executing": true
    }
   },
   "cell_type": "code",
   "source": "import requests",
   "id": "initial_id",
   "outputs": [],
   "execution_count": null
  },
  {
   "metadata": {},
   "cell_type": "markdown",
   "source": "Requesting Data",
   "id": "1e6213b09a4a14ae"
  },
  {
   "metadata": {},
   "cell_type": "code",
   "outputs": [],
   "execution_count": null,
   "source": "baseUrl= \"https://api.irail.be/\"",
   "id": "4eb727d02aca4b86"
  },
  {
   "metadata": {
    "jupyter": {
     "is_executing": true
    }
   },
   "cell_type": "code",
   "source": [
    "# Endpoint for the liveboard information\n",
    "url = baseUrl + \"liveboard/\"\n",
    "params = {\n",
    "    \"id\": \"BE.NMBS.008892007\",  # Station ID for Gent-Sint-Pieters\n",
    "    \"station\": \"Gent-Sint-Pieters\",\n",
    "    \"date\": \"300917\",  # Date in the format ddmmyy\n",
    "    \"time\": \"1230\",    # Time in the format HHmm\n",
    "    \"arrdep\": \"departure\",  # Fetching information for departures\n",
    "    \"lang\": \"en\",      # Response language set to English\n",
    "    \"format\": \"json\",  # Response format set to JSON\n",
    "    \"alerts\": \"false\"  # Do not include alerts in the response\n",
    "}\n",
    "\n",
    "try:\n",
    "    # Perform the API request\n",
    "    response = requests.get(url, params=params)\n",
    "\n",
    "    # Check if the request was successful\n",
    "    if response.status_code == 200:\n",
    "        # Parse the JSON response\n",
    "        data = response.json()\n",
    "        print(data)\n",
    "    else:\n",
    "        print(\"Failed to retrieve data. Status code:\", response.status_code)\n",
    "except requests.exceptions.RequestException as e:\n",
    "    # Handle any errors that occur during the HTTP request\n",
    "    print(\"An error occurred:\", e)"
   ],
   "id": "8a84ce30d37181d3",
   "outputs": [],
   "execution_count": null
  },
  {
   "metadata": {},
   "cell_type": "markdown",
   "source": "Composition of the train API explanation response",
   "id": "70a27b40bbb1c248"
  },
  {
   "metadata": {},
   "cell_type": "markdown",
   "source": [
    "La risposta dell'API che hai ricevuto riguarda la composizione di un treno, specificando dettagliatamente i segmenti del treno, comprese le origini, le destinazioni, e le caratteristiche specifiche delle varie unità (carrozze) che compongono il treno. Ecco una spiegazione dettagliata dei vari elementi nella risposta:\n",
    "\n",
    "### Struttura Generale:\n",
    "- **version**: La versione dell'API.\n",
    "- **timestamp**: Il timestamp UNIX al momento della richiesta, che indica quando i dati sono stati recuperati.\n",
    "- **composition**: Contiene i dettagli della composizione del treno.\n",
    "\n",
    "### Dettagli dei Segmenti:\n",
    "Dentro `composition`, trovi:\n",
    "- **segments**: Una struttura che include i dettagli dei segmenti del treno.\n",
    "\n",
    "#### Per Ogni Segmento:\n",
    "- **number**: Numero di segmenti.\n",
    "- **segment**: Un array di oggetti, ciascuno rappresentante un segmento del treno. (i segmenti sono le parti del treno che si separano e vanno in direzioni diverse,ad esempio 2/3 carrozze insieme).\n",
    "\n",
    "##### Dettagli di un Segmento:\n",
    "- **id**: Identificativo del segmento.\n",
    "- **origin** e **destination**:\n",
    "  - **locationX** e **locationY**: Coordinate geografiche della stazione.\n",
    "  - **id**: Identificativo della stazione nel formato BE.NMBS.\n",
    "  - **name**: Nome della stazione.\n",
    "  - **standardname**: Nome standardizzato della stazione.\n",
    "  - **@id**: URL identificativo della stazione su iRail.\n",
    "  \n",
    "- **composition**: Dettagli specifici della composizione del segmento, incluso:\n",
    "  - **source**: La fonte dei dati.\n",
    "  - **units**: Dettagli sulle unità/carrozze.\n",
    "  \n",
    "    ###### Per Ogni Carrozza (`unit`):\n",
    "    - **id**: Identificativo della carrozza.\n",
    "    - **materialType**: Tipo di materiale/veicolo, con dettagli come tipo genitore, sottotipo e orientamento.\n",
    "    - **hasToilets**, **hasTables**, **hasSecondClassOutlets**, **hasFirstClassOutlets**, **hasHeating**, **hasAirco**: Attributi booleani (1 per sì, 0 per no) che indicano la presenza di toilette, tavoli, prese elettriche in seconda classe, prese elettriche in prima classe, riscaldamento, e aria condizionata.\n",
    "    - **materialNumber**: Numero di materiale.\n",
    "    - **tractionType**: Tipo di trazione.\n",
    "    - **canPassToNextUnit**: Se è possibile passare alla carrozza successiva direttamente.\n",
    "    - **standingPlacesSecondClass**, **standingPlacesFirstClass**: Numero di posti in piedi in seconda e prima classe.\n",
    "    - **seatsCoupeSecondClass**, **seatsCoupeFirstClass**, **seatsSecondClass**, **seatsFirstClass**: Numero di posti a sedere in varie configurazioni e classi.\n",
    "    - **lengthInMeter**: Lunghezza della carrozza in metri.\n",
    "    - **hasSemiAutomaticInteriorDoors**: Presenza di porte interne semi-automatiche.\n",
    "    - **hasLuggageSection**: Presenza di uno scomparto bagagli.\n",
    "    - **materialSubTypeName**: Nome sottotipo del materiale.\n",
    "    - **tractionPosition**: Posizione della trazione.\n",
    "    - **hasPrmSection**: Presenza di una sezione per persone con ridotta mobilità.\n",
    "    - **hasPriorityPlaces**: Presenza di posti prioritari.\n",
    "    - **hasBikeSection**: Presenza di una sezione per biciclette.\n",
    "\n",
    "Questa risposta API fornisce una visione dettagliata delle specifiche di ogni carrozza di un treno, utili per applicazioni che necessitano di informare i passeggeri sulle caratteristiche specifiche del treno che stanno per prendere.    "
   ],
   "id": "6f2b9ab68a87f272"
  }
 ],
 "metadata": {
  "kernelspec": {
   "display_name": "Python 3",
   "language": "python",
   "name": "python3"
  },
  "language_info": {
   "codemirror_mode": {
    "name": "ipython",
    "version": 2
   },
   "file_extension": ".py",
   "mimetype": "text/x-python",
   "name": "python",
   "nbconvert_exporter": "python",
   "pygments_lexer": "ipython2",
   "version": "2.7.6"
  }
 },
 "nbformat": 4,
 "nbformat_minor": 5
}
