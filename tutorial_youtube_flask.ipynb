{
 "cells": [
  {
   "cell_type": "markdown",
   "source": [
    "Tutorial youtube: \n",
    "https://www.youtube.com/watch?v=GMppyAPbLYk&ab_channel=TechWithTim"
   ],
   "metadata": {
    "collapsed": false
   },
   "id": "470fa7405959bfab"
  },
  {
   "cell_type": "markdown",
   "source": [
    "Api: è un modo per gli altri di chiamare il nostro database ed effettuarne delle operazioni"
   ],
   "metadata": {
    "collapsed": false
   },
   "id": "6b37e9d61493dce9"
  },
  {
   "cell_type": "markdown",
   "source": [
    "Inizializzazione del progetto:"
   ],
   "metadata": {
    "collapsed": false
   },
   "id": "b755f16507b495e1"
  },
  {
   "cell_type": "code",
   "execution_count": 6,
   "outputs": [],
   "source": [
    "from flask import Flask, request, jsonify\n",
    "from flask_restful import Api, Resource,abort, reqparse\n",
    "\n",
    "app = Flask(__name__)\n",
    "api = Api(app)\n",
    "\n",
    "channels={\"primo\": {\"name\": \"primo\", \"views\": 1000, \"likes\": 100},\n",
    "          \"secondo\": {\"name\": \"secondo\", \"views\": 2000, \"likes\": 200},\n",
    "          \"terzo\": {\"name\": \"terzo\", \"views\": 3000, \"likes\": 300}}\n",
    "\n",
    "videos={\"primo\": {\"name\": \"primo\", \"views\": 1000, \"likes\": 100},\n",
    "            \"secondo\": {\"name\": \"secondo\", \"views\": 2000, \"likes\": 200},\n",
    "            \"terzo\": {\"name\": \"terzo\", \"views\": 3000, \"likes\": 300}}"
   ],
   "metadata": {
    "collapsed": false,
    "ExecuteTime": {
     "end_time": "2024-05-02T17:27:04.451849Z",
     "start_time": "2024-05-02T17:27:04.373830900Z"
    }
   },
   "id": "5e626f2b26dce0aa"
  },
  {
   "cell_type": "markdown",
   "source": [
    "metodi"
   ],
   "metadata": {
    "collapsed": false
   },
   "id": "5af8cc466dac99e9"
  },
  {
   "cell_type": "code",
   "execution_count": 7,
   "outputs": [],
   "source": [
    "def abort_if_channel_doesnt_exist(channel_id):\n",
    "    if channel_id not in channels:\n",
    "        abort(404, message=\"Channel {} doesn't exist\".format(channel_id))\n",
    "        \n",
    "def abort_if_video_doesnt_exist(video_id):\n",
    "    if video_id not in videos:\n",
    "        abort(404, message=\"Video {} doesn't exist\".format(video_id))\n",
    "    \n",
    "def abort_if_channel_exist(channel_id):\n",
    "    if channel_id in channels:\n",
    "        abort(409, message=\"A channel with this id already exists\".format(channel_id))\n",
    "        \n",
    "def abort_if_video_exist(video_id):\n",
    "    if video_id in videos:\n",
    "        abort(409, message=\"A video with this id already exists\".format(video_id))\n"
   ],
   "metadata": {
    "collapsed": false,
    "ExecuteTime": {
     "end_time": "2024-05-02T17:27:04.452805200Z",
     "start_time": "2024-05-02T17:27:04.412559Z"
    }
   },
   "id": "2a99e00fd768790f"
  },
  {
   "cell_type": "markdown",
   "source": [
    "Arg parsers per fare delle richieste -> automaticamente converte le richieste in un formato che possiamo usare"
   ],
   "metadata": {
    "collapsed": false
   },
   "id": "7b94cd702efbc705"
  },
  {
   "cell_type": "code",
   "execution_count": 8,
   "outputs": [
    {
     "data": {
      "text/plain": "<flask_restful.reqparse.RequestParser at 0x2107c0ec370>"
     },
     "execution_count": 8,
     "metadata": {},
     "output_type": "execute_result"
    }
   ],
   "source": [
    "video_create_args = reqparse.RequestParser()\n",
    "# help serve per dare un messaggio di errore se non passi il parametro\n",
    "video_create_args.add_argument(\"name\", type=str, help=\"Name of the video is required\", required=True)\n",
    "video_create_args.add_argument(\"views\", type=int, help=\"Views of the video\")\n",
    "video_create_args.add_argument(\"likes\", type=int, help=\"Likes on the video\")\n"
   ],
   "metadata": {
    "collapsed": false,
    "ExecuteTime": {
     "end_time": "2024-05-02T17:27:04.476722900Z",
     "start_time": "2024-05-02T17:27:04.427509400Z"
    }
   },
   "id": "8413edc3e5b42c36"
  },
  {
   "cell_type": "markdown",
   "source": [
    "classe"
   ],
   "metadata": {
    "collapsed": false
   },
   "id": "4ff0dfe46deeb49a"
  },
  {
   "cell_type": "code",
   "execution_count": 9,
   "outputs": [],
   "source": [
    "class Video(Resource):\n",
    "    def get(self, video_id):\n",
    "        abort_if_video_doesnt_exist(video_id)\n",
    "        return videos[video_id]\n",
    "    \n",
    "    def put(self, video_id):\n",
    "        ## qui usi il converter per passare i parametri\n",
    "        args = video_create_args.parse_args()\n",
    "        videos[video_id] = args\n",
    "        return videos[video_id], 201\n",
    "    \n",
    "    def delete(self, video_id):\n",
    "        abort_if_video_doesnt_exist(video_id)\n",
    "        del videos[video_id]\n",
    "        return '', 204\n",
    "    \n",
    "class Channel(Resource):\n",
    "    def get(self, channel_id):\n",
    "        abort_if_channel_doesnt_exist(channel_id)\n",
    "        return channels[channel_id]\n",
    "    \n",
    "    def put(self, channel_id):\n",
    "        args = video_create_args.parse_args()\n",
    "        channels[channel_id] = args\n",
    "        return channels[channel_id], 201\n",
    "    \n",
    "    def delete(self, channel_id):\n",
    "        abort_if_channel_doesnt_exist(channel_id)\n",
    "        del channels[channel_id]\n",
    "        return '', 204"
   ],
   "metadata": {
    "collapsed": false,
    "ExecuteTime": {
     "end_time": "2024-05-02T17:27:04.477719900Z",
     "start_time": "2024-05-02T17:27:04.446822500Z"
    }
   },
   "id": "8ac211f899e084a3"
  },
  {
   "cell_type": "markdown",
   "source": [
    "api, questo video_id e channel_id sono delle variabili che vengono passate come argomenti ai metodi delle classi,i parametri possono essere anche più di uno"
   ],
   "metadata": {
    "collapsed": false
   },
   "id": "ac69d722003552c0"
  },
  {
   "cell_type": "code",
   "execution_count": 10,
   "outputs": [],
   "source": [
    "\n",
    "api.add_resource(Video, \"/video/<int:video_id>\")\n",
    "api.add_resource(Channel, \"/channel/<int:channel_id>\")"
   ],
   "metadata": {
    "collapsed": false,
    "ExecuteTime": {
     "end_time": "2024-05-02T17:27:04.478716200Z",
     "start_time": "2024-05-02T17:27:04.458785600Z"
    }
   },
   "id": "2087d15430864e64"
  },
  {
   "cell_type": "markdown",
   "source": [
    "main"
   ],
   "metadata": {
    "collapsed": false
   },
   "id": "61f036a44935bcc1"
  },
  {
   "cell_type": "code",
   "execution_count": 11,
   "outputs": [
    {
     "name": "stdout",
     "output_type": "stream",
     "text": [
      " * Serving Flask app '__main__'\n",
      " * Debug mode: on\n"
     ]
    },
    {
     "name": "stderr",
     "output_type": "stream",
     "text": [
      "WARNING: This is a development server. Do not use it in a production deployment. Use a production WSGI server instead.\n",
      " * Running on http://127.0.0.1:5000\n",
      "Press CTRL+C to quit\n",
      " * Restarting with stat\n"
     ]
    },
    {
     "ename": "SystemExit",
     "evalue": "1",
     "output_type": "error",
     "traceback": [
      "An exception has occurred, use %tb to see the full traceback.\n",
      "\u001B[1;31mSystemExit\u001B[0m\u001B[1;31m:\u001B[0m 1\n"
     ]
    },
    {
     "name": "stderr",
     "output_type": "stream",
     "text": [
      "C:\\Users\\Antonio\\AppData\\Local\\Programs\\Python\\Python39\\lib\\site-packages\\IPython\\core\\interactiveshell.py:3556: UserWarning: To exit: use 'exit', 'quit', or Ctrl-D.\n",
      "  warn(\"To exit: use 'exit', 'quit', or Ctrl-D.\", stacklevel=1)\n"
     ]
    }
   ],
   "source": [
    "if __name__ == \"__main__\":\n",
    "    app.run(debug=True)"
   ],
   "metadata": {
    "collapsed": false,
    "ExecuteTime": {
     "end_time": "2024-05-02T17:27:05.411733Z",
     "start_time": "2024-05-02T17:27:04.473735200Z"
    }
   },
   "id": "bdb909e191b3c7d4"
  },
  {
   "cell_type": "markdown",
   "source": [
    "Example of response"
   ],
   "metadata": {
    "collapsed": false
   },
   "id": "a98e3f4356184cb"
  },
  {
   "cell_type": "code",
   "execution_count": null,
   "outputs": [],
   "source": [
    "response= requests.get(\"http://xxxzzz\"+\"/video/secondo\")\n"
   ],
   "metadata": {
    "collapsed": false
   },
   "id": "c9c693587608c785"
  },
  {
   "cell_type": "markdown",
   "source": [
    "Cosi si passano i parametri\n"
   ],
   "metadata": {
    "collapsed": false
   },
   "id": "cd5c769ebbc38412"
  },
  {
   "cell_type": "code",
   "execution_count": null,
   "outputs": [],
   "source": [
    "response2= requests.put(\"http://xxxzzz\"+\"/video/secondo\", {\"name\": \"secondo\", \"views\": 2000, \"likes\": 200})"
   ],
   "metadata": {
    "collapsed": false
   },
   "id": "fa7d814419c5e7ee"
  },
  {
   "cell_type": "markdown",
   "source": [
    "resqparse serve per creare la struttura dei parametri affinchè tu passi sicuro quelli che ti servono senza sbagliare con stringhee ec.c.."
   ],
   "metadata": {
    "collapsed": false
   },
   "id": "9eabbb3419cdcafa"
  }
 ],
 "metadata": {
  "kernelspec": {
   "display_name": "Python 3",
   "language": "python",
   "name": "python3"
  },
  "language_info": {
   "codemirror_mode": {
    "name": "ipython",
    "version": 2
   },
   "file_extension": ".py",
   "mimetype": "text/x-python",
   "name": "python",
   "nbconvert_exporter": "python",
   "pygments_lexer": "ipython2",
   "version": "2.7.6"
  }
 },
 "nbformat": 4,
 "nbformat_minor": 5
}
